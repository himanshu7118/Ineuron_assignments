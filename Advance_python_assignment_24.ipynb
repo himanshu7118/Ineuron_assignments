{
 "cells": [
  {
   "attachments": {},
   "cell_type": "markdown",
   "metadata": {},
   "source": [
    "Q1. Is it permissible to use several import statements to import the same module? What would the goal be? Can you think of a situation where it would be beneficial ?\n",
    "\n",
    "Ans: Yes, it is permissible to use several import statements to import the same module. It is used in case when we have to import multiple functions from same module."
   ]
  },
  {
   "attachments": {},
   "cell_type": "markdown",
   "metadata": {},
   "source": [
    "Q2. What are some of a module's characteristics? (Name at least one.)\n",
    "\n",
    "Ans: The following are some of a module's characteristics:\n",
    "\n",
    "__name__ : It returns the name of the module\n",
    "\n",
    "__doc__ : It denotes the documentation string line written in a module code.\n",
    "\n",
    "__file__ : It holds the name and path of the module file from which it is loaded\n",
    "\n",
    "__dict__ : It return a dictionary object of module attributes, functions and other definitions and their respective values"
   ]
  },
  {
   "attachments": {},
   "cell_type": "markdown",
   "metadata": {},
   "source": [
    "Q3. Circular importing, such as when two modules import each other, can lead to dependencies and bugs that aren't visible. How can you go about creating a program that avoids mutual importing?\n",
    "\n",
    "Ans: Circular importing means importing the two modules in each other. If suppose we are wokring in MOD1.py file and it is importing some function say F2() from some other module say MOD2.PY file or we can do vice-versa. What will happen is: This will give an import error.\n",
    "\n",
    "This is because when we import F2() function from module MOD2.py, then this will execute MOD2.py file. And in MOD2.py file there is an another statement of importing MOD1.py module.\n",
    "\n",
    "This will result in endless loop. To avoid this error just do one thingWe can use if __name__ == '__main__'\n",
    "\n",
    "In the function, you can't directly refer to the function in the program. The addition of this sentence avoids the endless loop of the program ."
   ]
  },
  {
   "attachments": {},
   "cell_type": "markdown",
   "metadata": {},
   "source": [
    "Q4. Why is __all__ in Python ?\n",
    "\n",
    "Ans: It provides list of all modules present in a library."
   ]
  },
  {
   "attachments": {},
   "cell_type": "markdown",
   "metadata": {},
   "source": [
    "Q5. In what situation is it useful to refer to the __name__ attribute or the string __main_ _ ?\n",
    "\n",
    "Ans: During the time of execution of the code if we want to refer the module in which we are working on then we uses name attribute. In that case it will return the module in which we are working on. Suppose if that moudle is being imported from some other module then name will have the name of that moudle from where the current module has been imported. The current module in which we are working is refer to the string __main __."
   ]
  },
  {
   "attachments": {},
   "cell_type": "markdown",
   "metadata": {},
   "source": [
    "Q6. What are some of the benefits of attaching a program counter to the RPN interpreter\n",
    "application, which interprets an RPN script line by line?\n",
    "\n",
    "Ans: Attaching a program counter to the RPN interpreter application can provide several benefits. Firstly, it can facilitate faster execution of instructions by providing the memory location of the next instruction to be executed by the CPU. Secondly, it can provide tracking of the execution points while the CPU executes the instructions, which can be useful for debugging purposes. Additionally, it can help ensure that the interpreter executes each line of the RPN script in the correct order, which is important for the correct evaluation of the script."
   ]
  },
  {
   "attachments": {},
   "cell_type": "markdown",
   "metadata": {},
   "source": [
    "Q7. What are the minimum expressions or statements (or both) that you&#39;d need to render a basic\n",
    "programming language like RPN primitive but complete— that is, capable of carrying out any\n",
    "computerised task theoretically possible?\n",
    "\n",
    "Ans : To render a basic programming language like RPN primitive but complete, one would need a set of minimum expressions or statements that can carry out any computerised task theoretically possible. These minimum expressions or statements would include basic arithmetic operations such as addition, subtraction, multiplication, and division, as well as more complex operations such as conditional statements, loops, and functions\n",
    "1\n",
    ". Additionally, the language would need to support input and output operations, as well as the ability to define and manipulate variables and data structures\n",
    "2\n",
    ". With these basic building blocks, a complete RPN programming language could be constructed that is capable of carrying out any computerised task theoretically possible."
   ]
  }
 ],
 "metadata": {
  "language_info": {
   "name": "python"
  },
  "orig_nbformat": 4
 },
 "nbformat": 4,
 "nbformat_minor": 2
}
